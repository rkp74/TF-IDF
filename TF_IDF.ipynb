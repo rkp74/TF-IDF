{
  "nbformat": 4,
  "nbformat_minor": 0,
  "metadata": {
    "colab": {
      "provenance": [],
      "authorship_tag": "ABX9TyNub18Ri9eBg3RKeWeaTWAa",
      "include_colab_link": true
    },
    "kernelspec": {
      "name": "python3",
      "display_name": "Python 3"
    },
    "language_info": {
      "name": "python"
    }
  },
  "cells": [
    {
      "cell_type": "markdown",
      "metadata": {
        "id": "view-in-github",
        "colab_type": "text"
      },
      "source": [
        "<a href=\"https://colab.research.google.com/github/rkp74/TF-IDF/blob/main/TF_IDF.ipynb\" target=\"_parent\"><img src=\"https://colab.research.google.com/assets/colab-badge.svg\" alt=\"Open In Colab\"/></a>"
      ]
    },
    {
      "cell_type": "code",
      "execution_count": 32,
      "metadata": {
        "id": "ttE2xQlxZYju"
      },
      "outputs": [],
      "source": [
        "import nltk"
      ]
    },
    {
      "cell_type": "code",
      "source": [
        "nltk.download()"
      ],
      "metadata": {
        "colab": {
          "base_uri": "https://localhost:8080/"
        },
        "id": "zhiXSh-TZeA3",
        "outputId": "a1ee1138-7558-4347-de0f-46d41703f272"
      },
      "execution_count": 33,
      "outputs": [
        {
          "name": "stdout",
          "output_type": "stream",
          "text": [
            "NLTK Downloader\n",
            "---------------------------------------------------------------------------\n",
            "    d) Download   l) List    u) Update   c) Config   h) Help   q) Quit\n",
            "---------------------------------------------------------------------------\n",
            "Downloader> q\n"
          ]
        },
        {
          "output_type": "execute_result",
          "data": {
            "text/plain": [
              "True"
            ]
          },
          "metadata": {},
          "execution_count": 33
        }
      ]
    },
    {
      "cell_type": "code",
      "source": [
        "paragraph = \"\"\" Deep learning is part of a broader family of machine learning methods based on artificial neural networks with representation learning. Learning can be supervised, semi-supervised or unsupervised.[2]\n",
        "\n",
        "Deep-learning architectures such as deep neural networks, deep belief networks, deep reinforcement learning, recurrent neural networks, convolutional neural networks and transformers have been applied to fields including computer vision, speech recognition, natural language processing, machine translation, bioinformatics, drug design, medical image analysis, climate science, material inspection and board game programs, where they have produced results comparable to and in some cases surpassing human expert performance.[3][4][5]\n",
        "\n",
        "Artificial neural networks (ANNs) were inspired by information processing and distributed communication nodes in biological systems. ANNs have various differences from biological brains. Specifically, artificial neural networks tend to be static and symbolic, while the biological brain of most living organisms is dynamic (plastic) and analog.[6][7]\n",
        "\n",
        "The adjective \"deep\" in deep learning refers to the use of multiple layers in the network. Early work showed that a linear perceptron cannot be a universal classifier, but that a network with a nonpolynomial activation function with one hidden layer of unbounded width can. Deep learning is a modern variation that is concerned with an unbounded number of layers of bounded size, which permits practical application and optimized implementation, while retaining theoretical universality under mild conditions. In deep learning the layers are also permitted to be heterogeneous and to deviate widely from biologically informed connectionist models, for the sake of efficiency, trainability and understandability. \"\"\""
      ],
      "metadata": {
        "id": "S1oUAwMTZjXN"
      },
      "execution_count": 34,
      "outputs": []
    },
    {
      "cell_type": "code",
      "source": [
        "import re\n",
        "from nltk.stem import PorterStemmer\n",
        "from nltk.stem import WordNetLemmatizer\n",
        "from nltk.corpus import stopwords\n",
        "\n",
        "ps = PorterStemmer()\n",
        "wn = WordNetLemmatizer()"
      ],
      "metadata": {
        "id": "cIYLClV5Z0dE"
      },
      "execution_count": 35,
      "outputs": []
    },
    {
      "cell_type": "code",
      "source": [
        "sentences = nltk.sent_tokenize(paragraph)\n",
        "print(sentences)\n",
        "len(sentences)\n"
      ],
      "metadata": {
        "colab": {
          "base_uri": "https://localhost:8080/"
        },
        "id": "x4yxBHEyakv7",
        "outputId": "01543b55-2c19-4048-fadd-f7483a15d445"
      },
      "execution_count": 36,
      "outputs": [
        {
          "output_type": "stream",
          "name": "stdout",
          "text": [
            "[' Deep learning is part of a broader family of machine learning methods based on artificial neural networks with representation learning.', 'Learning can be supervised, semi-supervised or unsupervised.', '[2]\\n\\nDeep-learning architectures such as deep neural networks, deep belief networks, deep reinforcement learning, recurrent neural networks, convolutional neural networks and transformers have been applied to fields including computer vision, speech recognition, natural language processing, machine translation, bioinformatics, drug design, medical image analysis, climate science, material inspection and board game programs, where they have produced results comparable to and in some cases surpassing human expert performance.', '[3][4][5]\\n\\nArtificial neural networks (ANNs) were inspired by information processing and distributed communication nodes in biological systems.', 'ANNs have various differences from biological brains.', 'Specifically, artificial neural networks tend to be static and symbolic, while the biological brain of most living organisms is dynamic (plastic) and analog.', '[6][7]\\n\\nThe adjective \"deep\" in deep learning refers to the use of multiple layers in the network.', 'Early work showed that a linear perceptron cannot be a universal classifier, but that a network with a nonpolynomial activation function with one hidden layer of unbounded width can.', 'Deep learning is a modern variation that is concerned with an unbounded number of layers of bounded size, which permits practical application and optimized implementation, while retaining theoretical universality under mild conditions.', 'In deep learning the layers are also permitted to be heterogeneous and to deviate widely from biologically informed connectionist models, for the sake of efficiency, trainability and understandability.']\n"
          ]
        },
        {
          "output_type": "execute_result",
          "data": {
            "text/plain": [
              "10"
            ]
          },
          "metadata": {},
          "execution_count": 36
        }
      ]
    },
    {
      "cell_type": "code",
      "source": [
        "corpus = []"
      ],
      "metadata": {
        "id": "mCO55HHnea_d"
      },
      "execution_count": 37,
      "outputs": []
    },
    {
      "cell_type": "code",
      "source": [
        "for i in range(len(sentences)):\n",
        "  review = re.sub('[^a-zA-Z]', ' ' ,sentences[i])\n",
        "  review = review.lower()\n",
        "  review = review.split()\n",
        "  review = [wn.lemmatize(word) for word in review if not word in set(stopwords.words('english'))]\n",
        "  review = ' '.join(review)\n",
        "  corpus.append(review)\n",
        "  print(review)  "
      ],
      "metadata": {
        "colab": {
          "base_uri": "https://localhost:8080/"
        },
        "id": "3KiBAo0EawPE",
        "outputId": "b29b9717-693e-482e-cf62-5270ea3d4c40"
      },
      "execution_count": 38,
      "outputs": [
        {
          "output_type": "stream",
          "name": "stdout",
          "text": [
            "deep learning part broader family machine learning method based artificial neural network representation learning\n",
            "learning supervised semi supervised unsupervised\n",
            "deep learning architecture deep neural network deep belief network deep reinforcement learning recurrent neural network convolutional neural network transformer applied field including computer vision speech recognition natural language processing machine translation bioinformatics drug design medical image analysis climate science material inspection board game program produced result comparable case surpassing human expert performance\n",
            "artificial neural network anns inspired information processing distributed communication node biological system\n",
            "anns various difference biological brain\n",
            "specifically artificial neural network tend static symbolic biological brain living organism dynamic plastic analog\n",
            "adjective deep deep learning refers use multiple layer network\n",
            "early work showed linear perceptron cannot universal classifier network nonpolynomial activation function one hidden layer unbounded width\n",
            "deep learning modern variation concerned unbounded number layer bounded size permit practical application optimized implementation retaining theoretical universality mild condition\n",
            "deep learning layer also permitted heterogeneous deviate widely biologically informed connectionist model sake efficiency trainability understandability\n"
          ]
        }
      ]
    },
    {
      "cell_type": "code",
      "source": [
        "# Creating TF_IDF Matrix\n",
        "from sklearn.feature_extraction.text import TfidfVectorizer\n",
        "tiv = TfidfVectorizer()\n",
        "X = tiv.fit_transform(corpus).toarray()\n",
        "feature = tiv.get_feature_names_out()\n",
        "print(feature)"
      ],
      "metadata": {
        "colab": {
          "base_uri": "https://localhost:8080/"
        },
        "id": "lp-ZzorDbwaa",
        "outputId": "2ac091d3-d435-4699-9069-78feccd08250"
      },
      "execution_count": 39,
      "outputs": [
        {
          "output_type": "stream",
          "name": "stdout",
          "text": [
            "['activation' 'adjective' 'also' 'analog' 'analysis' 'anns' 'application'\n",
            " 'applied' 'architecture' 'artificial' 'based' 'belief' 'bioinformatics'\n",
            " 'biological' 'biologically' 'board' 'bounded' 'brain' 'broader' 'cannot'\n",
            " 'case' 'classifier' 'climate' 'communication' 'comparable' 'computer'\n",
            " 'concerned' 'condition' 'connectionist' 'convolutional' 'deep' 'design'\n",
            " 'deviate' 'difference' 'distributed' 'drug' 'dynamic' 'early'\n",
            " 'efficiency' 'expert' 'family' 'field' 'function' 'game' 'heterogeneous'\n",
            " 'hidden' 'human' 'image' 'implementation' 'including' 'information'\n",
            " 'informed' 'inspection' 'inspired' 'language' 'layer' 'learning' 'linear'\n",
            " 'living' 'machine' 'material' 'medical' 'method' 'mild' 'model' 'modern'\n",
            " 'multiple' 'natural' 'network' 'neural' 'node' 'nonpolynomial' 'number'\n",
            " 'one' 'optimized' 'organism' 'part' 'perceptron' 'performance' 'permit'\n",
            " 'permitted' 'plastic' 'practical' 'processing' 'produced' 'program'\n",
            " 'recognition' 'recurrent' 'refers' 'reinforcement' 'representation'\n",
            " 'result' 'retaining' 'sake' 'science' 'semi' 'showed' 'size'\n",
            " 'specifically' 'speech' 'static' 'supervised' 'surpassing' 'symbolic'\n",
            " 'system' 'tend' 'theoretical' 'trainability' 'transformer' 'translation'\n",
            " 'unbounded' 'understandability' 'universal' 'universality' 'unsupervised'\n",
            " 'use' 'variation' 'various' 'vision' 'widely' 'width' 'work']\n"
          ]
        }
      ]
    },
    {
      "cell_type": "code",
      "source": [
        "len(feature)"
      ],
      "metadata": {
        "colab": {
          "base_uri": "https://localhost:8080/"
        },
        "id": "5YyZRO-Udc3s",
        "outputId": "9dd8c836-ef72-43d7-ea6e-1388610b86ce"
      },
      "execution_count": 40,
      "outputs": [
        {
          "output_type": "execute_result",
          "data": {
            "text/plain": [
              "122"
            ]
          },
          "metadata": {},
          "execution_count": 40
        }
      ]
    },
    {
      "cell_type": "code",
      "source": [
        "import numpy as np\n",
        "np.set_printoptions(threshold=np.inf)"
      ],
      "metadata": {
        "id": "yN5jRiIWdjN-"
      },
      "execution_count": 41,
      "outputs": []
    },
    {
      "cell_type": "code",
      "source": [
        "np.shape(X)"
      ],
      "metadata": {
        "colab": {
          "base_uri": "https://localhost:8080/"
        },
        "id": "yQMQ3OAQdfvg",
        "outputId": "3548feb2-95e7-47f8-c0ec-caf4f58b3a05"
      },
      "execution_count": 42,
      "outputs": [
        {
          "output_type": "execute_result",
          "data": {
            "text/plain": [
              "(10, 122)"
            ]
          },
          "metadata": {},
          "execution_count": 42
        }
      ]
    },
    {
      "cell_type": "code",
      "source": [
        "print(X)"
      ],
      "metadata": {
        "colab": {
          "base_uri": "https://localhost:8080/"
        },
        "id": "DRTeHK-kd62d",
        "outputId": "cd7a7c4e-e3c4-4ce4-9eb4-72e533986428"
      },
      "execution_count": 43,
      "outputs": [
        {
          "output_type": "stream",
          "name": "stdout",
          "text": [
            "[[0.         0.         0.         0.         0.         0.\n",
            "  0.         0.         0.         0.22478012 0.30223371 0.\n",
            "  0.         0.         0.         0.         0.         0.\n",
            "  0.30223371 0.         0.         0.         0.         0.\n",
            "  0.         0.         0.         0.         0.         0.\n",
            "  0.17947268 0.         0.         0.         0.         0.\n",
            "  0.         0.         0.         0.         0.30223371 0.\n",
            "  0.         0.         0.         0.         0.         0.\n",
            "  0.         0.         0.         0.         0.         0.\n",
            "  0.         0.         0.48674276 0.         0.         0.25692626\n",
            "  0.         0.         0.30223371 0.         0.         0.\n",
            "  0.         0.         0.16224759 0.19984563 0.         0.\n",
            "  0.         0.         0.         0.         0.30223371 0.\n",
            "  0.         0.         0.         0.         0.         0.\n",
            "  0.         0.         0.         0.         0.         0.\n",
            "  0.30223371 0.         0.         0.         0.         0.\n",
            "  0.         0.         0.         0.         0.         0.\n",
            "  0.         0.         0.         0.         0.         0.\n",
            "  0.         0.         0.         0.         0.         0.\n",
            "  0.         0.         0.         0.         0.         0.\n",
            "  0.         0.        ]\n",
            " [0.         0.         0.         0.         0.         0.\n",
            "  0.         0.         0.         0.         0.         0.\n",
            "  0.         0.         0.         0.         0.         0.\n",
            "  0.         0.         0.         0.         0.         0.\n",
            "  0.         0.         0.         0.         0.         0.\n",
            "  0.         0.         0.         0.         0.         0.\n",
            "  0.         0.         0.         0.         0.         0.\n",
            "  0.         0.         0.         0.         0.         0.\n",
            "  0.         0.         0.         0.         0.         0.\n",
            "  0.         0.         0.21407833 0.         0.         0.\n",
            "  0.         0.         0.         0.         0.         0.\n",
            "  0.         0.         0.         0.         0.         0.\n",
            "  0.         0.         0.         0.         0.         0.\n",
            "  0.         0.         0.         0.         0.         0.\n",
            "  0.         0.         0.         0.         0.         0.\n",
            "  0.         0.         0.         0.         0.         0.39878367\n",
            "  0.         0.         0.         0.         0.         0.79756733\n",
            "  0.         0.         0.         0.         0.         0.\n",
            "  0.         0.         0.         0.         0.         0.\n",
            "  0.39878367 0.         0.         0.         0.         0.\n",
            "  0.         0.        ]\n",
            " [0.         0.         0.         0.         0.13635323 0.\n",
            "  0.         0.13635323 0.13635323 0.         0.         0.13635323\n",
            "  0.13635323 0.         0.         0.13635323 0.         0.\n",
            "  0.         0.         0.13635323 0.         0.13635323 0.\n",
            "  0.13635323 0.13635323 0.         0.         0.         0.13635323\n",
            "  0.32387757 0.13635323 0.         0.         0.         0.13635323\n",
            "  0.         0.         0.         0.13635323 0.         0.13635323\n",
            "  0.         0.13635323 0.         0.         0.13635323 0.13635323\n",
            "  0.         0.13635323 0.         0.         0.13635323 0.\n",
            "  0.13635323 0.         0.14639653 0.         0.         0.1159127\n",
            "  0.13635323 0.13635323 0.         0.         0.         0.\n",
            "  0.         0.13635323 0.29279306 0.27048206 0.         0.\n",
            "  0.         0.         0.         0.         0.         0.\n",
            "  0.13635323 0.         0.         0.         0.         0.1159127\n",
            "  0.13635323 0.13635323 0.13635323 0.13635323 0.         0.13635323\n",
            "  0.         0.13635323 0.         0.         0.13635323 0.\n",
            "  0.         0.         0.         0.13635323 0.         0.\n",
            "  0.13635323 0.         0.         0.         0.         0.\n",
            "  0.13635323 0.13635323 0.         0.         0.         0.\n",
            "  0.         0.         0.         0.         0.13635323 0.\n",
            "  0.         0.        ]\n",
            " [0.         0.         0.         0.         0.         0.27910149\n",
            "  0.         0.         0.         0.24418082 0.         0.\n",
            "  0.         0.24418082 0.         0.         0.         0.\n",
            "  0.         0.         0.         0.         0.         0.32831941\n",
            "  0.         0.         0.         0.         0.         0.\n",
            "  0.         0.         0.         0.         0.32831941 0.\n",
            "  0.         0.         0.         0.         0.         0.\n",
            "  0.         0.         0.         0.         0.         0.\n",
            "  0.         0.         0.32831941 0.         0.         0.32831941\n",
            "  0.         0.         0.         0.         0.         0.\n",
            "  0.         0.         0.         0.         0.         0.\n",
            "  0.         0.         0.17625112 0.21709425 0.32831941 0.\n",
            "  0.         0.         0.         0.         0.         0.\n",
            "  0.         0.         0.         0.         0.         0.27910149\n",
            "  0.         0.         0.         0.         0.         0.\n",
            "  0.         0.         0.         0.         0.         0.\n",
            "  0.         0.         0.         0.         0.         0.\n",
            "  0.         0.         0.32831941 0.         0.         0.\n",
            "  0.         0.         0.         0.         0.         0.\n",
            "  0.         0.         0.         0.         0.         0.\n",
            "  0.         0.        ]\n",
            " [0.         0.         0.         0.         0.         0.42512837\n",
            "  0.         0.         0.         0.         0.         0.\n",
            "  0.         0.37193708 0.         0.         0.         0.42512837\n",
            "  0.         0.         0.         0.         0.         0.\n",
            "  0.         0.         0.         0.         0.         0.\n",
            "  0.         0.         0.         0.50009727 0.         0.\n",
            "  0.         0.         0.         0.         0.         0.\n",
            "  0.         0.         0.         0.         0.         0.\n",
            "  0.         0.         0.         0.         0.         0.\n",
            "  0.         0.         0.         0.         0.         0.\n",
            "  0.         0.         0.         0.         0.         0.\n",
            "  0.         0.         0.         0.         0.         0.\n",
            "  0.         0.         0.         0.         0.         0.\n",
            "  0.         0.         0.         0.         0.         0.\n",
            "  0.         0.         0.         0.         0.         0.\n",
            "  0.         0.         0.         0.         0.         0.\n",
            "  0.         0.         0.         0.         0.         0.\n",
            "  0.         0.         0.         0.         0.         0.\n",
            "  0.         0.         0.         0.         0.         0.\n",
            "  0.         0.         0.         0.50009727 0.         0.\n",
            "  0.         0.        ]\n",
            " [0.         0.         0.         0.2941898  0.         0.\n",
            "  0.         0.         0.         0.21879763 0.         0.\n",
            "  0.         0.21879763 0.         0.         0.         0.2500882\n",
            "  0.         0.         0.         0.         0.         0.\n",
            "  0.         0.         0.         0.         0.         0.\n",
            "  0.         0.         0.         0.         0.         0.\n",
            "  0.2941898  0.         0.         0.         0.         0.\n",
            "  0.         0.         0.         0.         0.         0.\n",
            "  0.         0.         0.         0.         0.         0.\n",
            "  0.         0.         0.         0.         0.2941898  0.\n",
            "  0.         0.         0.         0.         0.         0.\n",
            "  0.         0.         0.15792939 0.19452677 0.         0.\n",
            "  0.         0.         0.         0.2941898  0.         0.\n",
            "  0.         0.         0.         0.2941898  0.         0.\n",
            "  0.         0.         0.         0.         0.         0.\n",
            "  0.         0.         0.         0.         0.         0.\n",
            "  0.         0.         0.2941898  0.         0.2941898  0.\n",
            "  0.         0.2941898  0.         0.2941898  0.         0.\n",
            "  0.         0.         0.         0.         0.         0.\n",
            "  0.         0.         0.         0.         0.         0.\n",
            "  0.         0.        ]\n",
            " [0.         0.394543   0.         0.         0.         0.\n",
            "  0.         0.         0.         0.         0.         0.\n",
            "  0.         0.         0.         0.         0.         0.\n",
            "  0.         0.         0.         0.         0.         0.\n",
            "  0.         0.         0.         0.         0.         0.\n",
            "  0.46857572 0.         0.         0.         0.         0.\n",
            "  0.         0.         0.         0.         0.         0.\n",
            "  0.         0.         0.         0.         0.         0.\n",
            "  0.         0.         0.         0.         0.         0.\n",
            "  0.         0.2608832  0.21180182 0.         0.         0.\n",
            "  0.         0.         0.         0.         0.         0.\n",
            "  0.394543   0.         0.21180182 0.         0.         0.\n",
            "  0.         0.         0.         0.         0.         0.\n",
            "  0.         0.         0.         0.         0.         0.\n",
            "  0.         0.         0.         0.         0.394543   0.\n",
            "  0.         0.         0.         0.         0.         0.\n",
            "  0.         0.         0.         0.         0.         0.\n",
            "  0.         0.         0.         0.         0.         0.\n",
            "  0.         0.         0.         0.         0.         0.\n",
            "  0.         0.394543   0.         0.         0.         0.\n",
            "  0.         0.        ]\n",
            " [0.25442687 0.         0.         0.         0.         0.\n",
            "  0.         0.         0.         0.         0.         0.\n",
            "  0.         0.         0.         0.         0.         0.\n",
            "  0.         0.25442687 0.         0.25442687 0.         0.\n",
            "  0.         0.         0.         0.         0.         0.\n",
            "  0.         0.         0.         0.         0.         0.\n",
            "  0.         0.25442687 0.         0.         0.         0.\n",
            "  0.25442687 0.         0.         0.25442687 0.         0.\n",
            "  0.         0.         0.         0.         0.         0.\n",
            "  0.         0.16823438 0.         0.25442687 0.         0.\n",
            "  0.         0.         0.         0.         0.         0.\n",
            "  0.         0.         0.13658353 0.         0.         0.25442687\n",
            "  0.         0.25442687 0.         0.         0.         0.25442687\n",
            "  0.         0.         0.         0.         0.         0.\n",
            "  0.         0.         0.         0.         0.         0.\n",
            "  0.         0.         0.         0.         0.         0.\n",
            "  0.25442687 0.         0.         0.         0.         0.\n",
            "  0.         0.         0.         0.         0.         0.\n",
            "  0.         0.         0.21628609 0.         0.25442687 0.\n",
            "  0.         0.         0.         0.         0.         0.\n",
            "  0.25442687 0.25442687]\n",
            " [0.         0.         0.         0.         0.         0.\n",
            "  0.23701816 0.         0.         0.         0.         0.\n",
            "  0.         0.         0.         0.         0.23701816 0.\n",
            "  0.         0.         0.         0.         0.         0.\n",
            "  0.         0.         0.23701816 0.23701816 0.         0.\n",
            "  0.14074632 0.         0.         0.         0.         0.\n",
            "  0.         0.         0.         0.         0.         0.\n",
            "  0.         0.         0.         0.         0.         0.\n",
            "  0.23701816 0.         0.         0.         0.         0.\n",
            "  0.         0.15672324 0.12723804 0.         0.         0.\n",
            "  0.         0.         0.         0.23701816 0.         0.23701816\n",
            "  0.         0.         0.         0.         0.         0.\n",
            "  0.23701816 0.         0.23701816 0.         0.         0.\n",
            "  0.         0.23701816 0.         0.         0.23701816 0.\n",
            "  0.         0.         0.         0.         0.         0.\n",
            "  0.         0.         0.23701816 0.         0.         0.\n",
            "  0.         0.23701816 0.         0.         0.         0.\n",
            "  0.         0.         0.         0.         0.23701816 0.\n",
            "  0.         0.         0.20148709 0.         0.         0.23701816\n",
            "  0.         0.         0.23701816 0.         0.         0.\n",
            "  0.         0.        ]\n",
            " [0.         0.         0.26651953 0.         0.         0.\n",
            "  0.         0.         0.         0.         0.         0.\n",
            "  0.         0.         0.26651953 0.         0.         0.\n",
            "  0.         0.         0.         0.         0.         0.\n",
            "  0.         0.         0.         0.         0.26651953 0.\n",
            "  0.15826485 0.         0.26651953 0.         0.         0.\n",
            "  0.         0.         0.26651953 0.         0.         0.\n",
            "  0.         0.         0.26651953 0.         0.         0.\n",
            "  0.         0.         0.         0.26651953 0.         0.\n",
            "  0.         0.17623039 0.14307521 0.         0.         0.\n",
            "  0.         0.         0.         0.         0.26651953 0.\n",
            "  0.         0.         0.         0.         0.         0.\n",
            "  0.         0.         0.         0.         0.         0.\n",
            "  0.         0.         0.26651953 0.         0.         0.\n",
            "  0.         0.         0.         0.         0.         0.\n",
            "  0.         0.         0.         0.26651953 0.         0.\n",
            "  0.         0.         0.         0.         0.         0.\n",
            "  0.         0.         0.         0.         0.         0.26651953\n",
            "  0.         0.         0.         0.26651953 0.         0.\n",
            "  0.         0.         0.         0.         0.         0.26651953\n",
            "  0.         0.        ]]\n"
          ]
        }
      ]
    }
  ]
}